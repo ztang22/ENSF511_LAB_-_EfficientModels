{
 "cells": [
  {
   "cell_type": "code",
   "execution_count": 1,
   "id": "57041a02",
   "metadata": {},
   "outputs": [],
   "source": [
    "from PIL import Image\n",
    "import os\n",
    "import PIL\n",
    "import glob"
   ]
  },
  {
   "cell_type": "code",
   "execution_count": 24,
   "id": "e316072a",
   "metadata": {},
   "outputs": [],
   "source": [
    "path = \"MobileNet-samples/validation/bobcat112/\"\n",
    "os.mkdir(path)\n",
    "files = os.listdir(\"MobileNet-samples/validation/bobcat\")\n",
    "for i in range(len(files)):\n",
    "    image = Image.open(\"MobileNet-samples/validation/bobcat/\"+files[i])\n",
    "    image.resize((112,112))\n",
    "    p = os.path.join(\"MobileNet-samples/validation/bobcat112/\", str(i)+\".jpg\")\n",
    "    image.save(p)\n",
    "\n",
    "\n",
    "\n"
   ]
  },
  {
   "cell_type": "code",
   "execution_count": null,
   "id": "a0f6c417",
   "metadata": {},
   "outputs": [],
   "source": []
  }
 ],
 "metadata": {
  "kernelspec": {
   "display_name": "Python 3",
   "language": "python",
   "name": "python3"
  },
  "language_info": {
   "codemirror_mode": {
    "name": "ipython",
    "version": 3
   },
   "file_extension": ".py",
   "mimetype": "text/x-python",
   "name": "python",
   "nbconvert_exporter": "python",
   "pygments_lexer": "ipython3",
   "version": "3.6.13"
  }
 },
 "nbformat": 4,
 "nbformat_minor": 5
}
